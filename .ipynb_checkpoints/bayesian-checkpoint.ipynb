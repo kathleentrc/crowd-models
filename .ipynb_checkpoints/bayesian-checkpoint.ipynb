{
 "cells": [
  {
   "cell_type": "code",
   "execution_count": 58,
   "id": "bddcdfee-528f-4b9c-baf3-04073bb90e10",
   "metadata": {
    "scrolled": true
   },
   "outputs": [],
   "source": [
    "# !pip install bnlearn\n",
    "# !pip install -U scikit-learn"
   ]
  },
  {
   "cell_type": "code",
   "execution_count": 59,
   "id": "73bd5702-f1c9-4f47-82c1-4142541f1526",
   "metadata": {},
   "outputs": [],
   "source": [
    "import numpy as np \n",
    "import pandas as pd \n",
    "import matplotlib.pyplot as plt\n",
    "import seaborn as sns\n",
    "\n",
    "import bnlearn as bn\n",
    "\n",
    "from sklearn.model_selection import train_test_split\n",
    "from sklearn.metrics import accuracy_score\n",
    "\n",
    "import warnings\n",
    "warnings.filterwarnings(\"ignore\")"
   ]
  },
  {
   "cell_type": "code",
   "execution_count": 60,
   "id": "1842153f-c4f7-4661-aee9-442894a7cff7",
   "metadata": {},
   "outputs": [
    {
     "data": {
      "text/html": [
       "<div>\n",
       "<style scoped>\n",
       "    .dataframe tbody tr th:only-of-type {\n",
       "        vertical-align: middle;\n",
       "    }\n",
       "\n",
       "    .dataframe tbody tr th {\n",
       "        vertical-align: top;\n",
       "    }\n",
       "\n",
       "    .dataframe thead th {\n",
       "        text-align: right;\n",
       "    }\n",
       "</style>\n",
       "<table border=\"1\" class=\"dataframe\">\n",
       "  <thead>\n",
       "    <tr style=\"text-align: right;\">\n",
       "      <th></th>\n",
       "      <th>username</th>\n",
       "      <th>type</th>\n",
       "      <th>perception</th>\n",
       "      <th>people_count</th>\n",
       "      <th>station</th>\n",
       "      <th>train_service</th>\n",
       "      <th>direction</th>\n",
       "      <th>timestamp</th>\n",
       "    </tr>\n",
       "  </thead>\n",
       "  <tbody>\n",
       "    <tr>\n",
       "      <th>0</th>\n",
       "      <td>@juandelacruz</td>\n",
       "      <td>platform</td>\n",
       "      <td>spacious</td>\n",
       "      <td>5</td>\n",
       "      <td>Taft Avenue</td>\n",
       "      <td>MRT-3</td>\n",
       "      <td>Northbound</td>\n",
       "      <td>2025-07-19 08:00:00</td>\n",
       "    </tr>\n",
       "    <tr>\n",
       "      <th>1</th>\n",
       "      <td>@anekacampos</td>\n",
       "      <td>platform</td>\n",
       "      <td>spacious</td>\n",
       "      <td>5</td>\n",
       "      <td>Taft Avenue</td>\n",
       "      <td>MRT-3</td>\n",
       "      <td>Northbound</td>\n",
       "      <td>2025-07-19 08:00:02</td>\n",
       "    </tr>\n",
       "    <tr>\n",
       "      <th>2</th>\n",
       "      <td>@kathcruz</td>\n",
       "      <td>queue</td>\n",
       "      <td>moderately crowded</td>\n",
       "      <td>21</td>\n",
       "      <td>Ayala</td>\n",
       "      <td>MRT-3</td>\n",
       "      <td>Southbound</td>\n",
       "      <td>2025-07-19 08:00:30</td>\n",
       "    </tr>\n",
       "    <tr>\n",
       "      <th>3</th>\n",
       "      <td>@pedro99</td>\n",
       "      <td>inside train</td>\n",
       "      <td>lightly occupied</td>\n",
       "      <td>12</td>\n",
       "      <td>Guadalupe</td>\n",
       "      <td>MRT-3</td>\n",
       "      <td>Northbound</td>\n",
       "      <td>2025-07-19 08:01:00</td>\n",
       "    </tr>\n",
       "    <tr>\n",
       "      <th>4</th>\n",
       "      <td>@lisagonzales</td>\n",
       "      <td>platform</td>\n",
       "      <td>congested</td>\n",
       "      <td>40</td>\n",
       "      <td>Shaw Boulevard</td>\n",
       "      <td>MRT-3</td>\n",
       "      <td>Southbound</td>\n",
       "      <td>2025-07-19 08:01:10</td>\n",
       "    </tr>\n",
       "  </tbody>\n",
       "</table>\n",
       "</div>"
      ],
      "text/plain": [
       "        username          type          perception  people_count  \\\n",
       "0  @juandelacruz      platform            spacious             5   \n",
       "1   @anekacampos      platform            spacious             5   \n",
       "2      @kathcruz         queue  moderately crowded            21   \n",
       "3       @pedro99  inside train    lightly occupied            12   \n",
       "4  @lisagonzales      platform           congested            40   \n",
       "\n",
       "          station train_service   direction            timestamp  \n",
       "0     Taft Avenue         MRT-3  Northbound  2025-07-19 08:00:00  \n",
       "1     Taft Avenue         MRT-3  Northbound  2025-07-19 08:00:02  \n",
       "2           Ayala         MRT-3  Southbound  2025-07-19 08:00:30  \n",
       "3       Guadalupe         MRT-3  Northbound  2025-07-19 08:01:00  \n",
       "4  Shaw Boulevard         MRT-3  Southbound  2025-07-19 08:01:10  "
      ]
     },
     "execution_count": 60,
     "metadata": {},
     "output_type": "execute_result"
    }
   ],
   "source": [
    "crowd_df = pd.read_csv(\"data.csv\")\n",
    "crowd_df.head()"
   ]
  },
  {
   "cell_type": "code",
   "execution_count": 61,
   "id": "1f939b31-978f-43ad-bdda-f219fabf9af9",
   "metadata": {},
   "outputs": [
    {
     "name": "stdout",
     "output_type": "stream",
     "text": [
      "<class 'pandas.core.frame.DataFrame'>\n",
      "RangeIndex: 24 entries, 0 to 23\n",
      "Data columns (total 8 columns):\n",
      " #   Column         Non-Null Count  Dtype \n",
      "---  ------         --------------  ----- \n",
      " 0   username       24 non-null     object\n",
      " 1   type           24 non-null     object\n",
      " 2   perception     24 non-null     object\n",
      " 3   people_count   24 non-null     int64 \n",
      " 4   station        24 non-null     object\n",
      " 5   train_service  24 non-null     object\n",
      " 6   direction      24 non-null     object\n",
      " 7   timestamp      24 non-null     object\n",
      "dtypes: int64(1), object(7)\n",
      "memory usage: 1.6+ KB\n"
     ]
    }
   ],
   "source": [
    "crowd_df.info()"
   ]
  },
  {
   "cell_type": "code",
   "execution_count": 62,
   "id": "4deac3a3-733d-42e7-9de2-ad88f79eb4c0",
   "metadata": {},
   "outputs": [
    {
     "data": {
      "image/png": "[encoded data removed]",
      "text/plain": [
       "<Figure size 640x480 with 1 Axes>"
      ]
     },
     "metadata": {},
     "output_type": "display_data"
    }
   ],
   "source": [
    "if \"username\" in crowd_df.columns:\n",
    "    crowd_df = crowd_df.drop(columns=[\"username\"])\n",
    "\n",
    "train, test = train_test_split(crowd_df, test_size=0.2, random_state=42, stratify=crowd_df[\"perception\"])\n",
    "\n",
    "Y_train = train[\"perception\"]\n",
    "X_train = train.drop(columns=[\"perception\"])\n",
    "\n",
    "Y_test = test[\"perception\"]\n",
    "X_test = test.drop(columns=[\"perception\"])\n",
    "\n",
    "sns.countplot(data=train, x=\"perception\")\n",
    "plt.xticks(rotation=45)\n",
    "plt.title(\"Distribution of Perception in Training Set (Last 5 Minutes)\")\n",
    "plt.show()"
   ]
  }
 ],
 "metadata": {
  "kernelspec": {
   "display_name": "Python 3 (ipykernel)",
   "language": "python",
   "name": "python3"
  },
  "language_info": {
   "codemirror_mode": {
    "name": "ipython",
    "version": 3
   },
   "file_extension": ".py",
   "mimetype": "text/x-python",
   "name": "python",
   "nbconvert_exporter": "python",
   "pygments_lexer": "ipython3",
   "version": "3.11.5"
  }
 },
 "nbformat": 4,
 "nbformat_minor": 5
}
